{
 "cells": [
  {
   "cell_type": "code",
   "execution_count": null,
   "id": "ee95fbe6",
   "metadata": {},
   "outputs": [],
   "source": [
    "Q1. What is MongoDB? Explain non-relational databases in short. In which scenarios it is preferred to use\n",
    "MongoDB over SQL databases?\n",
    "Ans1.MongoDB is a popular open-source NoSQL document-oriented database that stores data in JSON-like documents with dynamic schemas. It is designed to provide high availability, horizontal scaling, and flexibility for handling unstructured and semi-structured data.\n",
    "MongoDB is often preferred over SQL databases in scenarios where data needs to be stored and retrieved in a document-oriented format, where horizontal scaling is required, and where the data schema may evolve frequently or be undefined. MongoDB provides a flexible and scalable data model that allows for easy schema evolution and supports distributed data storage and querying.\n"
   ]
  },
  {
   "cell_type": "code",
   "execution_count": null,
   "id": "b72e1f73",
   "metadata": {},
   "outputs": [],
   "source": [
    "Q2. State and Explain the features of MongoDB?\n",
    "Ans2. MongoDB is a popular open-source NoSQL document-oriented database that provides a range of features to help users store, manage and retrieve data. Some of the key features of MongoDB are:\n",
    "\n",
    "Document-oriented: MongoDB stores data in JSON-like documents that can have nested fields and arrays, making it easy to represent complex hierarchical data structures.\n",
    "Dynamic schema: MongoDBs schema is flexible and dynamic, allowing you to change the schema of your documents without having to update the entire database. This makes it easy to adapt to changing business requirements.\n",
    "Indexing: MongoDB supports a wide range of indexing options, including single field, compound, geospatial, and text indexes. Indexing helps to improve query performance and allows for more efficient searching and filtering of data."
   ]
  },
  {
   "cell_type": "code",
   "execution_count": null,
   "id": "64f0bb38",
   "metadata": {},
   "outputs": [],
   "source": [
    "Q3. Write a code to connect MongoDB to Python. Also, create a database and a collection in MongoDB?\n",
    "Ans3.import pymongo\n",
    "\n",
    "# set up MongoDB client and connect to the default localhost:27017\n",
    "client = pymongo.MongoClient()\n",
    "\n",
    "# create a new database called \"mydb\"\n",
    "mydb = client[\"mydb\"]\n",
    "\n",
    "# create a new collection called \"mycollection\" in \"mydb\"\n",
    "mycollection = mydb[\"mycollection\"]\n"
   ]
  },
  {
   "cell_type": "code",
   "execution_count": null,
   "id": "68771fda",
   "metadata": {},
   "outputs": [],
   "source": [
    "Q4. Using the database and the collection created in question number 3, write a code to insert one record,\n",
    "and insert many records. Use the find() and find_one() methods to print the inserted record?\n",
    "Ans4. import pymongo\n",
    "\n",
    "# set up MongoDB client and connect to the default localhost:27017\n",
    "client = pymongo.MongoClient()\n",
    "\n",
    "# create a new database called \"mydb\"\n",
    "mydb = client[\"mydb\"]\n",
    "\n",
    "# create a new collection called \"mycollection\" in \"mydb\"\n",
    "mycollection = mydb[\"mycollection\"]\n",
    "\n",
    "# insert one record into \"mycollection\"\n",
    "myrecord = {\"name\": \"John\", \"age\": 30}\n",
    "result = mycollection.insert_one(myrecord)\n",
    "print(\"Inserted record ID:\", result.inserted_id)\n",
    "\n",
    "# insert multiple records into \"mycollection\"\n",
    "myrecords = [\n",
    "    {\"name\": \"Jane\", \"age\": 25},\n",
    "    {\"name\": \"Bob\", \"age\": 35},\n",
    "    {\"name\": \"Alice\", \"age\": 27}\n",
    "]\n",
    "result = mycollection.insert_many(myrecords)\n",
    "print(\"Inserted record IDs:\", result.inserted_ids)\n",
    "\n",
    "# use find() to print all records in \"mycollection\"\n",
    "for record in mycollection.find():\n",
    "    print(record)\n",
    "\n",
    "# use find_one() to print the first record in \"mycollection\"\n",
    "first_record = mycollection.find_one()\n",
    "print(\"First record:\", first_record)"
   ]
  },
  {
   "cell_type": "code",
   "execution_count": null,
   "id": "42a42a7f",
   "metadata": {},
   "outputs": [],
   "source": [
    "Q5. Explain how you can use the find() method to query the MongoDB database. Write a simple code to\n",
    "demonstrate this?\n",
    "Ans5.import pymongo\n",
    "\n",
    "# set up MongoDB client and connect to the default localhost:27017\n",
    "client = pymongo.MongoClient()\n",
    "\n",
    "# create a new database called \"mydb\"\n",
    "mydb = client[\"mydb\"]\n",
    "\n",
    "# create a new collection called \"mycollection\" in \"mydb\"\n",
    "mycollection = mydb[\"mycollection\"]\n",
    "\n",
    "# insert some sample data into \"mycollection\"\n",
    "mycollection.insert_many([\n",
    "    {\"name\": \"John\", \"age\": 30},\n",
    "    {\"name\": \"Jane\", \"age\": 25},\n",
    "    {\"name\": \"Bob\", \"age\": 35},\n",
    "    {\"name\": \"Alice\", \"age\": 27}\n",
    "])\n",
    "\n",
    "# query \"mycollection\" for all documents where the age is greater than or equal to 30\n",
    "query = {\"age\": {\"$gte\": 30}}\n",
    "results = mycollection.find(query)\n",
    "\n",
    "# print out the matching documents\n",
    "for result in results:\n",
    "    print(result)"
   ]
  },
  {
   "cell_type": "code",
   "execution_count": null,
   "id": "27b32897",
   "metadata": {},
   "outputs": [],
   "source": [
    "Q6. Explain the sort() method. Give an example to demonstrate sorting in MongoDB?\n",
    "Ans6. The sort() method in MongoDB is used to sort the results of a query in ascending or descending order based on one or more fields. It takes one or more field-value pairs as arguments, with each pair specifying the name of a field to sort by and either a 1 or -1 to indicate ascending or descending order, respectively."
   ]
  },
  {
   "cell_type": "code",
   "execution_count": null,
   "id": "bb7bdede",
   "metadata": {},
   "outputs": [],
   "source": [
    "Q7. Explain why delete_one(), delete_many(), and drop() is used?\n",
    "Ans7. In MongoDB, there are several methods for deleting documents and collections:\n",
    "\n",
    "delete_one(filter) - Deletes a single document that matches the specified filter.\n",
    "delete_many(filter) - Deletes all documents that match the specified filter.\n",
    "drop() - Drops the entire collection from the database."
   ]
  }
 ],
 "metadata": {
  "kernelspec": {
   "display_name": "Python 3 (ipykernel)",
   "language": "python",
   "name": "python3"
  },
  "language_info": {
   "codemirror_mode": {
    "name": "ipython",
    "version": 3
   },
   "file_extension": ".py",
   "mimetype": "text/x-python",
   "name": "python",
   "nbconvert_exporter": "python",
   "pygments_lexer": "ipython3",
   "version": "3.9.13"
  }
 },
 "nbformat": 4,
 "nbformat_minor": 5
}
